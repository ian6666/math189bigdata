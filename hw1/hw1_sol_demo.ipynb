{
 "cells": [
  {
   "cell_type": "code",
   "execution_count": 1,
   "metadata": {},
   "outputs": [
    {
     "name": "stdout",
     "output_type": "stream",
     "text": [
      "Intel MKL WARNING: Support of Intel(R) Streaming SIMD Extensions 4.2 (Intel(R) SSE4.2) enabled only processors has been deprecated. Intel oneAPI Math Kernel Library 2025.0 will require Intel(R) Advanced Vector Extensions (Intel(R) AVX) instructions.\n",
      "Intel MKL WARNING: Support of Intel(R) Streaming SIMD Extensions 4.2 (Intel(R) SSE4.2) enabled only processors has been deprecated. Intel oneAPI Math Kernel Library 2025.0 will require Intel(R) Advanced Vector Extensions (Intel(R) AVX) instructions.\n"
     ]
    }
   ],
   "source": [
    "import pandas as pd\n",
    "import numpy as np\n",
    "import matplotlib.pyplot as plt\n",
    "import time\n"
   ]
  },
  {
   "cell_type": "code",
   "execution_count": 2,
   "metadata": {},
   "outputs": [],
   "source": [
    "# =============part c: Plot data and the optimal linear fit=================\n",
    "# NOTE: to finish this part, you need to finish the part(a) of this part\n",
    "# \t\tfirst\n",
    "\n",
    "# load the four data points of tihs problem\n",
    "X = np.array([0, 2, 3, 4])\n",
    "y = np.array([1, 3, 6, 8])\n",
    "\n",
    "\n",
    "# TODO: replace the m_opt and b_opt with the solution you obtained from\n",
    "# \t\tpart (a), note that y = mx + b\n",
    "#\"*** YOUR CODE HERE ***\"\n",
    "m_opt = 62/35\n",
    "b_opt = 18/35\n",
    "#\"*** END YOUR CODE HERE ***\""
   ]
  },
  {
   "cell_type": "code",
   "execution_count": 3,
   "metadata": {},
   "outputs": [
    {
     "name": "stdout",
     "output_type": "stream",
     "text": [
      "Shape of X_space before reshape:  (100,)\n",
      "Shape of X_space after reshape:  (100, 1)\n"
     ]
    }
   ],
   "source": [
    "# TODO: generate 100 points along the line of optimal linear fit.\n",
    "\n",
    "# HINT:\n",
    "#\t1) Use np.linspace to get the x-coordinate of 100 points\n",
    "#\t2) Calculate the y-coordinate of those 100 points with the m_opt and\n",
    "#\t   b_opt, remember y = mx+b.\n",
    "#\t3) Use a.reshape(-1,1), where a is a np.array, to reshape the array\n",
    "#\t   to appropraite shape for generating plot\n",
    "\n",
    "X_space = []\n",
    "y_space = []\n",
    "\"*** YOUR CODE HERE ***\"\n",
    "X_space = np.linspace(-1, 5, num=100)\n",
    "print(\"Shape of X_space before reshape: \", X_space.shape)\n",
    "X_space = X_space.reshape(-1, 1) # The -1 i tells NumPy to automatically calculate the size of this dimension. \n",
    "                                    # The 1 indicates that the second dimension of the new shape should have a single column.\n",
    "print(\"Shape of X_space after reshape: \",X_space.shape)\n",
    "y_space = (m_opt * X_space + b_opt).reshape(-1, 1)\n",
    "\"*** END YOUR CODE HERE ***\"\n",
    "\n",
    "# plot the optimal learn fit you obtained and save it to your current\n",
    "# folder\n",
    "plt.style.use('ggplot')\n",
    "plt.plot(X, y, 'ro')\n",
    "plt.plot(X_space, y_space)\n",
    "# plt.savefig('hw1pr2c.png', format='png')\n",
    "plt.close()\n"
   ]
  },
  {
   "cell_type": "code",
   "execution_count": 4,
   "metadata": {},
   "outputs": [],
   "source": [
    "# =============part d: Optimal linear fit with random data points=================\n",
    "\n",
    "# variables to start with\n",
    "mu, sigma, sampleSize = 0, 1, 100\n",
    "\n",
    "# TODO: Generate white Gaussian noise\n",
    "# HINT: Use np.random.normal to generate noise\n",
    "\n",
    "noise = []\n",
    "#\"*** YOUR CODE HERE ***\"\n",
    "noise = np.random.normal(mu, sigma, sampleSize).reshape(-1, 1)\n",
    "#\"*** END YOUR CODE HERE ***\""
   ]
  },
  {
   "cell_type": "code",
   "execution_count": 5,
   "metadata": {},
   "outputs": [],
   "source": [
    "# TODO: generate y-coordinate of the 100 points with noise\n",
    "\n",
    "# HINT:\n",
    "#\t1) Use X_space created in the part (c) above as the x-coordinates\n",
    "#\t2) In this case, y = mx + b + noise\n",
    "\n",
    "y_space_rand = np.zeros(len(X_space))\n",
    "#\"*** YOUR CODE HERE ***\"\n",
    "y_space_rand = m_opt * X_space + b_opt + noise\n",
    "#\"*** END YOUR CODE HERE ***\"\n"
   ]
  },
  {
   "cell_type": "code",
   "execution_count": 6,
   "metadata": {},
   "outputs": [
    {
     "name": "stdout",
     "output_type": "stream",
     "text": [
      "(100, 1) (100, 1)\n",
      "(100, 1) (100, 1) (100, 2)\n",
      "[[ 1.         -1.        ]\n",
      " [ 1.         -0.93939394]\n",
      " [ 1.         -0.87878788]\n",
      " [ 1.         -0.81818182]\n",
      " [ 1.         -0.75757576]]\n",
      "[[-1.        ]\n",
      " [-0.93939394]\n",
      " [-0.87878788]\n",
      " [-0.81818182]\n",
      " [-0.75757576]]\n",
      "Intel MKL WARNING: Support of Intel(R) Streaming SIMD Extensions 4.2 (Intel(R) SSE4.2) enabled only processors has been deprecated. Intel oneAPI Math Kernel Library 2025.0 will require Intel(R) Advanced Vector Extensions (Intel(R) AVX) instructions.\n"
     ]
    }
   ],
   "source": [
    "# TODO: calculate the new parameters for optimal linear fit using the\n",
    "#\t\t100 new points generated above\n",
    "\n",
    "# HINT:\n",
    "#\t1) Use np.ones_like to create a column of 1\n",
    "#\t2) Use np.hstack to stack column of ones on X_space to create\n",
    "#\t   X_space_stacked\n",
    "#\t3) Use np.linalg.solve to solve W_opt following the normal equation:\n",
    "#\t   X.T * X * W_opt = X.T * y\n",
    "\n",
    "\n",
    "X_space_stacked = X_space\t# need to be replaced following hint 1 and 2\n",
    "W_opt = None\n",
    "# \"*** YOUR CODE HERE ***\"\n",
    "ones = np.ones_like(y_space) # Creates an array of 1's that have the same shaoe as y_space\n",
    "print(ones.shape, y_space.shape)\n",
    "X_space_stacked = np.hstack((ones, X_space))\n",
    "print(ones.shape, X_space.shape, X_space_stacked.shape)\n",
    "print(X_space_stacked[:5])\n",
    "print(X_space[:5])\n",
    "\n",
    "#np.linalg.solve(a,b) solves the equation ax = b.\n",
    "W_opt = np.linalg.solve(X_space_stacked.T @ X_space_stacked,\n",
    "    X_space_stacked.T @ y_space_rand) # @ represents matrix multiplication\n",
    "\n",
    "# \"*** END YOUR CODE HERE ***\"\n",
    "\n",
    "# get the new m, and new b from W_opt obtained above\n",
    "b_rand_opt, m_rand_opt = W_opt.item(0), W_opt.item(1)"
   ]
  },
  {
   "cell_type": "code",
   "execution_count": 7,
   "metadata": {},
   "outputs": [],
   "source": [
    "# TODO: Generate the y-coordinate of 100 points with the new parameters\n",
    "#\t\tobtained\n",
    "\n",
    "# HINT:\n",
    "#\t1) Use X_space for x-coordinates (same)\n",
    "#\t2) y = mx + b\n",
    "#\t3) Make sure the array is in appropraite shape using a.reshape(-1,1)\n",
    "\n",
    "y_pred_rand = []\n",
    "# \"*** YOUR CODE HERE ***\"\n",
    "y_pred_rand = np.array([m_rand_opt * x + b_rand_opt for x in X_space]).reshape(-1, 1)\n",
    "\n",
    "# \"*** END YOUR CODE HERE ***\"\n"
   ]
  },
  {
   "cell_type": "code",
   "execution_count": 8,
   "metadata": {},
   "outputs": [
    {
     "data": {
      "image/png": "[encoded data removed]",
      "text/plain": [
       "<Figure size 640x480 with 1 Axes>"
      ]
     },
     "metadata": {},
     "output_type": "display_data"
    }
   ],
   "source": [
    "\n",
    "# generate plot\n",
    "# plot original data points and line\n",
    "plt.plot(X, y, 'ro')\n",
    "orig_plot, = plt.plot(X_space, y_space, 'r')\n",
    "\n",
    "# plot the generated 100 points with white gaussian noise and the new line\n",
    "plt.plot(X_space, y_space_rand, 'bo')\n",
    "rand_plot, = plt.plot(X_space, y_pred_rand, 'b')\n",
    "\n",
    "# set up legend and save the plot to the current folder\n",
    "plt.legend((orig_plot, rand_plot), \\\n",
    "    ('original fit', 'fit with noise'), loc = 'best')\n",
    "\n",
    "plt.show()"
   ]
  }
 ],
 "metadata": {
  "kernelspec": {
   "display_name": "base",
   "language": "python",
   "name": "python3"
  },
  "language_info": {
   "codemirror_mode": {
    "name": "ipython",
    "version": 3
   },
   "file_extension": ".py",
   "mimetype": "text/x-python",
   "name": "python",
   "nbconvert_exporter": "python",
   "pygments_lexer": "ipython3",
   "version": "3.9.18"
  }
 },
 "nbformat": 4,
 "nbformat_minor": 2
}
